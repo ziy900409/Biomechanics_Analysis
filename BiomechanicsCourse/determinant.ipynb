{
 "cells": [
  {
   "cell_type": "markdown",
   "id": "661fd2e8-0d38-4001-8601-65dd52390899",
   "metadata": {},
   "source": [
    "# Code of Matrix determintant"
   ]
  },
  {
   "cell_type": "code",
   "execution_count": 1,
   "id": "4fd7afc6-0870-4524-88cd-5cc912c7b31a",
   "metadata": {},
   "outputs": [],
   "source": [
    "import numpy as np\n",
    "from copy import deepcopy"
   ]
  },
  {
   "cell_type": "markdown",
   "id": "c24480d4-6576-470c-85a9-279499fabec1",
   "metadata": {},
   "source": [
    "## to create a cofactor matrix of determintant"
   ]
  },
  {
   "cell_type": "code",
   "execution_count": 8,
   "id": "c20e6345-cfe2-4409-8f49-cb451f4a7960",
   "metadata": {},
   "outputs": [],
   "source": [
    "def downgrade_matrix(matrix, row, columns):\n",
    "    new_matrix = deepcopy(matrix)\n",
    "    downgrade = np.delete(new_matrix, 0, axis = 0)\n",
    "    downgrade = np.delete(downgrade, columns, axis = 1)\n",
    "    print(\"downgrade: \", downgrade)\n",
    "    return downgrade"
   ]
  },
  {
   "cell_type": "markdown",
   "id": "71b35e7d-b2f2-4d68-ac31-2bda77cf607e",
   "metadata": {},
   "source": [
    "## to create a function to deal determintant of 2 by 2 matrix"
   ]
  },
  {
   "cell_type": "code",
   "execution_count": 9,
   "id": "ccbab865-669a-473d-99a0-50557df2e09b",
   "metadata": {},
   "outputs": [],
   "source": [
    "def determintant2X2(matrix):\n",
    "    determintant = matrix[0][0] * matrix[1][1] - matrix[1][0] * matrix[0][1]\n",
    "    return determintant"
   ]
  },
  {
   "cell_type": "markdown",
   "id": "b72c58b9-84ab-4666-820d-83410e4dc275",
   "metadata": {},
   "source": [
    "## to create a main function and set four condition\n",
    "### 1. if a matrix is not a square matrix\n",
    "### 2. if the matrix is 2 by 2\n",
    "### 3. if the rank of the matrix is lower than 2\n",
    "### 4. if the rank of the matrix is larger than 2"
   ]
  },
  {
   "cell_type": "code",
   "execution_count": 7,
   "id": "10968ee6-690a-4af0-8db0-452efbb4b073",
   "metadata": {},
   "outputs": [],
   "source": [
    "def determintant(matrix):\n",
    "    matrix_rows = np.shape(matrix)[0]\n",
    "    matrix_columns = np.shape(matrix)[1]\n",
    "    # to judge is the square matrix\n",
    "    if matrix_rows != matrix_columns:\n",
    "        print(\"it is not a square matrix\")\n",
    "        return None\n",
    "    else:\n",
    "        if matrix_rows == 2:\n",
    "            results = determintant2X2(matrix)\n",
    "            return results\n",
    "        elif matrix_rows < 2:\n",
    "            return None\n",
    "        else:\n",
    "            lenlen = matrix\n",
    "            answer = 0\n",
    "            for i in range(len(matrix)):\n",
    "                # to recurvise \n",
    "                cofactor = (-1)**(0+i) * lenlen[0][i] \\\n",
    "                    * determintant(downgrade_matrix(matrix, 0, i))\n",
    "                answer = answer + cofactor\n",
    "            return answer"
   ]
  }
 ],
 "metadata": {
  "kernelspec": {
   "display_name": "Python 3 (ipykernel)",
   "language": "python",
   "name": "python3"
  },
  "language_info": {
   "codemirror_mode": {
    "name": "ipython",
    "version": 3
   },
   "file_extension": ".py",
   "mimetype": "text/x-python",
   "name": "python",
   "nbconvert_exporter": "python",
   "pygments_lexer": "ipython3",
   "version": "3.9.12"
  }
 },
 "nbformat": 4,
 "nbformat_minor": 5
}

